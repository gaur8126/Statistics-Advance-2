{
 "cells": [
  {
   "cell_type": "code",
   "execution_count": 1,
   "id": "7071aa7f-ee74-476f-b64a-5028d1514ae4",
   "metadata": {},
   "outputs": [],
   "source": [
    "#Q1: Probability Mass Function (PMF) and Probability Density Function (PDF)\n",
    "\n",
    "#PMF (Probability Mass Function): PMF is a function that gives the probability of a discrete random variable taking on a specific value. It is defined for discrete distributions. For example, consider a fair six-sided die. The PMF would be a function that assigns a probability of 1/6 to each of the numbers 1 through 6, as each outcome is equally likely.\n",
    "\n",
    "#PDF (Probability Density Function): PDF is a function that describes the likelihood of obtaining the possible values that a continuous random variable can take. It is defined for continuous distributions. For example, the normal distribution has a PDF that is bell-shaped and describes the likelihood of observing different values.\n",
    "\n",
    "#Q2: Cumulative Density Function (CDF)\n",
    "\n",
    "#Definition: The Cumulative Distribution Function (CDF) gives the probability that a random variable takes a value less than or equal to a given value.\n",
    "\n",
    "#Example: For a six-sided die, the CDF would be a function that starts at 0 and increases by 1/6 at each possible value. It would look like steps, with a step of 1/6 at each outcome.\n",
    "\n",
    "#Importance: CDF is used to understand the probability distribution of a random variable, providing a cumulative view of the probabilities. It helps in calculating probabilities for a range of values.\n",
    "\n",
    "#Q3: Normal Distribution\n",
    "\n",
    "#Examples of Use: The normal distribution is commonly used to model situations where the data tends to cluster around a central value with decreasing frequency as values deviate further from the center. Examples include height, weight, IQ scores, errors in measurements, etc.\n",
    "\n",
    "#Parameters: The normal distribution is characterized by its mean (μ) and standard deviation (σ). The mean determines the central location, and the standard deviation influences the spread of the distribution.\n",
    "\n",
    "#Q4: Importance of Normal Distribution\n",
    "\n",
    "#Importance: Normal distribution is essential in statistical theory and applications due to the Central Limit Theorem. Many natural phenomena exhibit a distribution close to normal, simplifying statistical analysis. Examples include IQ scores, exam scores, and physical measurements.\n",
    "#Q5: Bernoulli Distribution and Binomial Distribution\n",
    "\n",
    "#Bernoulli Distribution: Models a binary outcome, such as success/failure or yes/no. It has a single parameter, p, representing the probability of success. Example: Flipping a coin (Heads/Tails).\n",
    "\n",
    "#Difference: Bernoulli Distribution is a special case of the Binomial Distribution when the number of trials (n) is 1. Binomial Distribution models the number of successes in a fixed number of independent Bernoulli trials.\n",
    "\n",
    "#Q6: Probability Calculation for a Normal Distribution\n",
    "\n",
    "\n",
    "\n",
    "#Q7: Uniform Distribution\n",
    "\n",
    "#Definition: Uniform distribution is a continuous probability distribution where every value within a certain range is equally likely.\n",
    "\n",
    "#Example: Rolling a fair six-sided die. Each outcome (1 through 6) has an equal probability of 1/6.\n",
    "\n",
    "#Q8: Z Score\n",
    "\n",
    "#Definition: The Z-score is a measure of how many standard deviations a data point is from the mean in a normal distribution.\n",
    "#Importance: It allows comparison of values from different normal distributions. Positive Z-scores indicate values above the mean, while negative Z-scores indicate values below the mean.\n",
    "\n",
    "#Q9: Central Limit Theorem (CLT)\n",
    "\n",
    "#Definition: The Central Limit Theorem states that, regardless of the original distribution of a random variable, the distribution of its sample mean will be approximately normal for a sufficiently large sample size.\n",
    "\n",
    "#Significance: It is crucial for statistical inference, allowing the use of normal distribution properties in estimating population parameters from sample statistics.\n",
    "\n",
    "#Q10: Assumptions of Central Limit Theorem\n",
    "\n",
    "#Random Sampling: Data must be collected randomly from the population.\n",
    "#Sample Size: The sample size should be sufficiently large. A common rule is a sample size greater than 30.\n",
    "#Independence: Each observation in the sample must be independent of the others.\n",
    "#Population Distribution: The shape of the population distribution is not critical if the sample size is large enough (n > 30).\n",
    "\n",
    "\n",
    "\n",
    "\n",
    "\n"
   ]
  },
  {
   "cell_type": "code",
   "execution_count": 1,
   "id": "4323a906-1c83-4211-bbfc-48ab0541168a",
   "metadata": {},
   "outputs": [],
   "source": [
    "#Q1: Probability Mass Function (PMF) and Probability Density Function (PDF)\n",
    "\n",
    "#PMF (Probability Mass Function): PMF is a function that gives the probability of a discrete random variable taking on a specific value. It is defined for discrete distributions. For example, consider a fair six-sided die. The PMF would be a function that assigns a probability of 1/6 to each of the numbers 1 through 6, as each outcome is equally likely.\n",
    "\n",
    "#PDF (Probability Density Function): PDF is a function that describes the likelihood of obtaining the possible values that a continuous random variable can take. It is defined for continuous distributions. For example, the normal distribution has a PDF that is bell-shaped and describes the likelihood of observing different values.\n"
   ]
  },
  {
   "cell_type": "code",
   "execution_count": 2,
   "id": "b51f5a41-dc3c-4a72-8012-f134dba02cb2",
   "metadata": {},
   "outputs": [],
   "source": [
    "#Q2: Cumulative Density Function (CDF)\n",
    "\n",
    "#Definition: The Cumulative Distribution Function (CDF) gives the probability that a random variable takes a value less than or equal to a given value.\n",
    "\n",
    "#Example: For a six-sided die, the CDF would be a function that starts at 0 and increases by 1/6 at each possible value. It would look like steps, with a step of 1/6 at each outcome.\n",
    "\n",
    "#Importance: CDF is used to understand the probability distribution of a random variable, providing a cumulative view of the probabilities. It helps in calculating probabilities for a range of values.\n"
   ]
  },
  {
   "cell_type": "code",
   "execution_count": 3,
   "id": "2e48cffd-5f79-409e-bd5c-d797acfb58b6",
   "metadata": {},
   "outputs": [],
   "source": [
    "#Q3: Normal Distribution\n",
    "\n",
    "#Examples of Use: The normal distribution is commonly used to model situations where the data tends to cluster around a central value with decreasing frequency as values deviate further from the center. Examples include height, weight, IQ scores, errors in measurements, etc.\n",
    "\n",
    "#Parameters: The normal distribution is characterized by its mean (μ) and standard deviation (σ). The mean determines the central location, and the standard deviation influences the spread of the distribution."
   ]
  },
  {
   "cell_type": "code",
   "execution_count": 4,
   "id": "cc1c89af-a90b-407e-a474-d4452e2ce08b",
   "metadata": {},
   "outputs": [],
   "source": [
    "#Q4: Importance of Normal Distribution\n",
    "\n",
    "#Importance: Normal distribution is essential in statistical theory and applications due to the Central Limit Theorem. Many natural phenomena exhibit a distribution close to normal, simplifying statistical analysis. Examples include IQ scores, exam scores, and physical measurements.\n"
   ]
  },
  {
   "cell_type": "code",
   "execution_count": 5,
   "id": "db4c24ce-3f79-4e90-8aa9-fe2aa2c506d3",
   "metadata": {},
   "outputs": [],
   "source": [
    "#Q5: Bernoulli Distribution and Binomial Distribution\n",
    "\n",
    "#Bernoulli Distribution: Models a binary outcome, such as success/failure or yes/no. It has a single parameter, p, representing the probability of success. Example: Flipping a coin (Heads/Tails).\n",
    "\n",
    "#Difference: Bernoulli Distribution is a special case of the Binomial Distribution when the number of trials (n) is 1. Binomial Distribution models the number of successes in a fixed number of independent Bernoulli trials.\n"
   ]
  },
  {
   "cell_type": "code",
   "execution_count": null,
   "id": "2b700593-c99d-4000-a851-0e51f8b42f8d",
   "metadata": {},
   "outputs": [],
   "source": [
    "#Q7: Uniform Distribution\n",
    "\n",
    "#Definition: Uniform distribution is a continuous probability distribution where every value within a certain range is equally likely.\n",
    "\n",
    "#Example: Rolling a fair six-sided die. Each outcome (1 through 6) has an equal probability of 1/6.\n"
   ]
  }
 ],
 "metadata": {
  "kernelspec": {
   "display_name": "Python 3 (ipykernel)",
   "language": "python",
   "name": "python3"
  },
  "language_info": {
   "codemirror_mode": {
    "name": "ipython",
    "version": 3
   },
   "file_extension": ".py",
   "mimetype": "text/x-python",
   "name": "python",
   "nbconvert_exporter": "python",
   "pygments_lexer": "ipython3",
   "version": "3.10.8"
  }
 },
 "nbformat": 4,
 "nbformat_minor": 5
}
